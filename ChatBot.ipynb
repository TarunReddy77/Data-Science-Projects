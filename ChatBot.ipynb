{
  "nbformat": 4,
  "nbformat_minor": 0,
  "metadata": {
    "colab": {
      "name": "ChatBot.ipynb",
      "provenance": [],
      "authorship_tag": "ABX9TyNV4Dv294xF5jD57TOLCBz0",
      "include_colab_link": true
    },
    "kernelspec": {
      "name": "python3",
      "display_name": "Python 3"
    },
    "language_info": {
      "name": "python"
    }
  },
  "cells": [
    {
      "cell_type": "markdown",
      "metadata": {
        "id": "view-in-github",
        "colab_type": "text"
      },
      "source": [
        "<a href=\"https://colab.research.google.com/github/TarunReddy77/Data-Science-Projects/blob/main/ChatBot.ipynb\" target=\"_parent\"><img src=\"https://colab.research.google.com/assets/colab-badge.svg\" alt=\"Open In Colab\"/></a>"
      ]
    },
    {
      "cell_type": "markdown",
      "metadata": {
        "id": "w36rs2CaSOoT"
      },
      "source": [
        "Hey Geeks! Welcome to an exciting project on Natural Language Processing, where we are going to build a Chat Bot within minutes. To build the bot, we are going to use some basic NLP techniques and build a simple Bot, that is pretty naive, but could get a lot better by adding a lot of data. So, let's get started."
      ]
    },
    {
      "cell_type": "markdown",
      "metadata": {
        "id": "cpZ2_aYXT8DM"
      },
      "source": [
        "Let's start by installing the newspaper package, which makes it very easy to process the language data."
      ]
    },
    {
      "cell_type": "code",
      "metadata": {
        "id": "WcbJl5c0_HAe",
        "colab": {
          "base_uri": "https://localhost:8080/"
        },
        "outputId": "6bff2831-d336-465d-d1ad-e3f735e41655"
      },
      "source": [
        "!pip install newspaper3k --quiet"
      ],
      "execution_count": 2,
      "outputs": [
        {
          "output_type": "stream",
          "name": "stdout",
          "text": [
            "\u001b[K     |████████████████████████████████| 211 kB 27.9 MB/s \n",
            "\u001b[K     |████████████████████████████████| 7.4 MB 35.7 MB/s \n",
            "\u001b[K     |████████████████████████████████| 87 kB 6.9 MB/s \n",
            "\u001b[K     |████████████████████████████████| 81 kB 10.7 MB/s \n",
            "\u001b[?25h  Building wheel for tinysegmenter (setup.py) ... \u001b[?25l\u001b[?25hdone\n",
            "  Building wheel for feedfinder2 (setup.py) ... \u001b[?25l\u001b[?25hdone\n",
            "  Building wheel for jieba3k (setup.py) ... \u001b[?25l\u001b[?25hdone\n",
            "  Building wheel for sgmllib3k (setup.py) ... \u001b[?25l\u001b[?25hdone\n"
          ]
        }
      ]
    },
    {
      "cell_type": "markdown",
      "metadata": {
        "id": "UcowMsY4UYJb"
      },
      "source": [
        "Next, let's import all the necessary libraries for the project."
      ]
    },
    {
      "cell_type": "code",
      "metadata": {
        "id": "93wLWOuC_LV1"
      },
      "source": [
        "import random, string, nltk, numpy as np # NLTK is a Natural Language Tool Kit, which contains a lot of useful functions for NLP.\n",
        "from newspaper import Article # Article is used to handle articles which contain our data.\n",
        "from sklearn.feature_extraction.text import CountVectorizer # CountVectorizer creates a matrix of words and their frequencies in different sentences.\n",
        "from sklearn.metrics.pairwise import cosine_similarity # Cosine similarity is a measure of how similar two sentences are. \n",
        "import warnings\n",
        "warnings.filterwarnings('ignore')"
      ],
      "execution_count": 3,
      "outputs": []
    },
    {
      "cell_type": "code",
      "metadata": {
        "colab": {
          "base_uri": "https://localhost:8080/"
        },
        "id": "QFR_cnssAvN4",
        "outputId": "0ecd56db-0c4e-464a-ef6f-de0f46d42825"
      },
      "source": [
        "nltk.download('punkt', quiet=True) # This is used to split the raw language data into sentences."
      ],
      "execution_count": 4,
      "outputs": [
        {
          "output_type": "execute_result",
          "data": {
            "text/plain": [
              "True"
            ]
          },
          "metadata": {},
          "execution_count": 4
        }
      ]
    },
    {
      "cell_type": "markdown",
      "metadata": {
        "id": "XtuVUrARV_CT"
      },
      "source": [
        "Now, we start getting our data from the web and prepare it."
      ]
    },
    {
      "cell_type": "code",
      "metadata": {
        "id": "VIrN6bHtS-uS"
      },
      "source": [
        "article = Article('https://en.wikipedia.org/wiki/Natural_language_processing') # Here, we pass the url for the model to scrape data from.\n",
        "article.download() # To download the article.\n",
        "article.parse() # To parse the data from html format.\n",
        "article.nlp() # To convert the data into a format suitable for NLP."
      ],
      "execution_count": 5,
      "outputs": []
    },
    {
      "cell_type": "markdown",
      "metadata": {
        "id": "gI0ceEVymXRD"
      },
      "source": [
        "Let's have a look at the data."
      ]
    },
    {
      "cell_type": "code",
      "metadata": {
        "colab": {
          "base_uri": "https://localhost:8080/",
          "height": 136
        },
        "id": "5D1sheUQmWGl",
        "outputId": "b3befa02-ce27-466d-de63-d6c5baf7bafa"
      },
      "source": [
        "corpus = article.text\n",
        "corpus"
      ],
      "execution_count": 6,
      "outputs": [
        {
          "output_type": "execute_result",
          "data": {
            "application/vnd.google.colaboratory.intrinsic+json": {
              "type": "string"
            },
            "text/plain": [
              "'This article is about natural language processing done by computers. For the natural language processing done by the human brain, see Language processing in the brain\\n\\nField of computer science and linguistics\\n\\nNatural language processing (NLP) is a subfield of linguistics, computer science, and artificial intelligence concerned with the interactions between computers and human language, in particular how to program computers to process and analyze large amounts of natural language data. The goal is a computer capable of \"understanding\" the contents of documents, including the contextual nuances of the language within them. The technology can then accurately extract information and insights contained in the documents as well as categorize and organize the documents themselves.\\n\\nChallenges in natural language processing frequently involve speech recognition, natural language understanding, and natural language generation.\\n\\nHistory [ edit ]\\n\\nNatural language processing has its roots in the 1950s. Already in 1950, Alan Turing published an article titled \"Computing Machinery and Intelligence\" which proposed what is now called the Turing test as a criterion of intelligence, a task that involves the automated interpretation and generation of natural language, but at the time not articulated as a problem separate from artificial intelligence.\\n\\nSymbolic NLP (1950s – early 1990s) [ edit ]\\n\\nThe premise of symbolic NLP is well-summarized by John Searle\\'s Chinese room experiment: Given a collection of rules (e.g., a Chinese phrasebook, with questions and matching answers), the computer emulates natural language understanding (or other NLP tasks) by applying those rules to the data it is confronted with.\\n\\nStatistical NLP (1990s–2010s) [ edit ]\\n\\nUp to the 1980s, most natural language processing systems were based on complex sets of hand-written rules. Starting in the late 1980s, however, there was a revolution in natural language processing with the introduction of machine learning algorithms for language processing. This was due to both the steady increase in computational power (see Moore\\'s law) and the gradual lessening of the dominance of Chomskyan theories of linguistics (e.g. transformational grammar), whose theoretical underpinnings discouraged the sort of corpus linguistics that underlies the machine-learning approach to language processing.[6]\\n\\n1990s : Many of the notable early successes on statistical methods in NLP occurred in the field of machine translation, due especially to work at IBM Research. These systems were able to take advantage of existing multilingual textual corpora that had been produced by the Parliament of Canada and the European Union as a result of laws calling for the translation of all governmental proceedings into all official languages of the corresponding systems of government. However, most other systems depended on corpora specifically developed for the tasks implemented by these systems, which was (and often continues to be) a major limitation in the success of these systems. As a result, a great deal of research has gone into methods of more effectively learning from limited amounts of data.\\n\\n: Many of the notable early successes on statistical methods in NLP occurred in the field of machine translation, due especially to work at IBM Research. These systems were able to take advantage of existing multilingual textual corpora that had been produced by the Parliament of Canada and the European Union as a result of laws calling for the translation of all governmental proceedings into all official languages of the corresponding systems of government. However, most other systems depended on corpora specifically developed for the tasks implemented by these systems, which was (and often continues to be) a major limitation in the success of these systems. As a result, a great deal of research has gone into methods of more effectively learning from limited amounts of data. 2000s: With the growth of the web, increasing amounts of raw (unannotated) language data has become available since the mid-1990s. Research has thus increasingly focused on unsupervised and semi-supervised learning algorithms. Such algorithms can learn from data that has not been hand-annotated with the desired answers or using a combination of annotated and non-annotated data. Generally, this task is much more difficult than supervised learning, and typically produces less accurate results for a given amount of input data. However, there is an enormous amount of non-annotated data available (including, among other things, the entire content of the World Wide Web), which can often make up for the inferior results if the algorithm used has a low enough time complexity to be practical.\\n\\nNeural NLP (present) [ edit ]\\n\\nIn the 2010s, representation learning and deep neural network-style machine learning methods became widespread in natural language processing, due in part to a flurry of results showing that such techniques[7][8] can achieve state-of-the-art results in many natural language tasks, for example in language modeling,[9] parsing,[10][11] and many others. This is increasingly important in medicine and healthcare, where NLP is being used to analyze notes and text in electronic health records that would otherwise be inaccessible for study when seeking to improve care.[12]\\n\\nMethods: Rules, statistics, neural networks [ edit ]\\n\\nIn the early days, many language-processing systems were designed by symbolic methods, i.e., the hand-coding of a set of rules, coupled with a dictionary lookup:[13][14] such as by writing grammars or devising heuristic rules for stemming.\\n\\nMore recent systems based on machine-learning algorithms have many advantages over hand-produced rules:\\n\\nThe learning procedures used during machine learning automatically focus on the most common cases, whereas when writing rules by hand it is often not at all obvious where the effort should be directed.\\n\\nAutomatic learning procedures can make use of statistical inference algorithms to produce models that are robust to unfamiliar input (e.g. containing words or structures that have not been seen before) and to erroneous input (e.g. with misspelled words or words accidentally omitted). Generally, handling such input gracefully with handwritten rules, or, more generally, creating systems of handwritten rules that make soft decisions, is extremely difficult, error-prone and time-consuming.\\n\\nSystems based on automatically learning the rules can be made more accurate simply by supplying more input data. However, systems based on handwritten rules can only be made more accurate by increasing the complexity of the rules, which is a much more difficult task. In particular, there is a limit to the complexity of systems based on handwritten rules, beyond which the systems become more and more unmanageable. However, creating more data to input to machine-learning systems simply requires a corresponding increase in the number of man-hours worked, generally without significant increases in the complexity of the annotation process.\\n\\nDespite the popularity of machine learning in NLP research, symbolic methods are still (2020) commonly used:\\n\\nwhen the amount of training data is insufficient to successfully apply machine learning methods, e.g., for the machine translation of low-resource languages such as provided by the Apertium system,\\n\\nfor preprocessing in NLP pipelines, e.g., tokenization, or\\n\\nfor postprocessing and transforming the output of NLP pipelines, e.g., for knowledge extraction from syntactic parses.\\n\\nStatistical methods [ edit ]\\n\\nSince the so-called \"statistical revolution\"[15][16] in the late 1980s and mid-1990s, much natural language processing research has relied heavily on machine learning. The machine-learning paradigm calls instead for using statistical inference to automatically learn such rules through the analysis of large corpora (the plural form of corpus, is a set of documents, possibly with human or computer annotations) of typical real-world examples.\\n\\nMany different classes of machine-learning algorithms have been applied to natural-language-processing tasks. These algorithms take as input a large set of \"features\" that are generated from the input data. Increasingly, however, research has focused on statistical models, which make soft, probabilistic decisions based on attaching real-valued weights to each input feature (complex-valued embeddings,[17] and neural networks in general have also been proposed, for e.g. speech[18]). Such models have the advantage that they can express the relative certainty of many different possible answers rather than only one, producing more reliable results when such a model is included as a component of a larger system.\\n\\nSome of the earliest-used machine learning algorithms, such as decision trees, produced systems of hard if-then rules similar to existing hand-written rules. However, part-of-speech tagging introduced the use of hidden Markov models to natural language processing, and increasingly, research has focused on statistical models, which make soft, probabilistic decisions based on attaching real-valued weights to the features making up the input data. The cache language models upon which many speech recognition systems now rely are examples of such statistical models. Such models are generally more robust when given unfamiliar input, especially input that contains errors (as is very common for real-world data), and produce more reliable results when integrated into a larger system comprising multiple subtasks.\\n\\nSince the neural turn, statistical methods in NLP research have been largely replaced by neural networks. However, they continue to be relevant for contexts in which statistical interpretability and transparency is required.\\n\\nNeural networks [ edit ]\\n\\nA major drawback of statistical methods is that they require elaborate feature engineering. Since 2015,[19] the field has thus largely abandoned statistical methods and shifted to neural networks for machine learning. Popular techniques include the use of word embeddings to capture semantic properties of words, and an increase in end-to-end learning of a higher-level task (e.g., question answering) instead of relying on a pipeline of separate intermediate tasks (e.g., part-of-speech tagging and dependency parsing). In some areas, this shift has entailed substantial changes in how NLP systems are designed, such that deep neural network-based approaches may be viewed as a new paradigm distinct from statistical natural language processing. For instance, the term neural machine translation (NMT) emphasizes the fact that deep learning-based approaches to machine translation directly learn sequence-to-sequence transformations, obviating the need for intermediate steps such as word alignment and language modeling that was used in statistical machine translation (SMT). Latest works tend to use non-technical structure of a given task to build proper neural network.[20]\\n\\nCommon NLP tasks [ edit ]\\n\\nThe following is a list of some of the most commonly researched tasks in natural language processing. Some of these tasks have direct real-world applications, while others more commonly serve as subtasks that are used to aid in solving larger tasks.\\n\\nThough natural language processing tasks are closely intertwined, they can be subdivided into categories for convenience. A coarse division is given below.\\n\\nText and speech processing [ edit ]\\n\\nOptical character recognition (OCR) Given an image representing printed text, determine the corresponding text.\\n\\nSpeech recognition Given a sound clip of a person or people speaking, determine the textual representation of the speech. This is the opposite of text to speech and is one of the extremely difficult problems colloquially termed \"AI-complete\" (see above). In natural speech there are hardly any pauses between successive words, and thus speech segmentation is a necessary subtask of speech recognition (see below). In most spoken languages, the sounds representing successive letters blend into each other in a process termed coarticulation, so the conversion of the analog signal to discrete characters can be a very difficult process. Also, given that words in the same language are spoken by people with different accents, the speech recognition software must be able to recognize the wide variety of input as being identical to each other in terms of its textual equivalent. Speech segmentation Given a sound clip of a person or people speaking, separate it into words. A subtask of speech recognition and typically grouped with it.\\n\\nText-to-speech Given a text, transform those units and produce a spoken representation. Text-to-speech can be used to aid the visually impaired.[21]\\n\\nWord segmentation (Tokenization) Separate a chunk of continuous text into separate words. For a language like English, this is fairly trivial, since words are usually separated by spaces. However, some written languages like Chinese, Japanese and Thai do not mark word boundaries in such a fashion, and in those languages text segmentation is a significant task requiring knowledge of the vocabulary and morphology of words in the language. Sometimes this process is also used in cases like bag of words (BOW) creation in data mining.\\n\\nMorphological analysis [ edit ]\\n\\nLemmatization The task of removing inflectional endings only and to return the base dictionary form of a word which is also known as a lemma. Lemmatization is another technique for reducing words to their normalized form. But in this case, the transformation actually uses a dictionary to map words to their actual form.[22] Morphological segmentation Separate words into individual morphemes and identify the class of the morphemes. The difficulty of this task depends greatly on the complexity of the morphology (i.e., the structure of words) of the language being considered. English has fairly simple morphology, especially inflectional morphology, and thus it is often possible to ignore this task entirely and simply model all possible forms of a word (e.g., \"open, opens, opened, opening\") as separate words. In languages such as Turkish or Meitei,[23] a highly agglutinated Indian language, however, such an approach is not possible, as each dictionary entry has thousands of possible word forms. Part-of-speech tagging Given a sentence, determine the part of speech (POS) for each word. Many words, especially common ones, can serve as multiple parts of speech. For example, \"book\" can be a noun (\"the book on the table\") or verb (\"to book a flight\"); \"set\" can be a noun, verb or adjective; and \"out\" can be any of at least five different parts of speech.\\n\\nStemming The process of reducing inflected (or sometimes derived) words to a base form (e.g., \"close\" will be the root for \"closed\", \"closing\", \"close\", \"closer\" etc.). Stemming yields similar results as lemmatization, but does so on grounds of rules, not a dictionary.\\n\\nSyntactic analysis [ edit ]\\n\\nLexical semantics (of individual words in context) [ edit ]\\n\\nLexical semantics What is the computational meaning of individual words in context? Distributional semantics How can we learn semantic representations from data? Named entity recognition (NER) Given a stream of text, determine which items in the text map to proper names, such as people or places, and what the type of each such name is (e.g. person, location, organization). Although capitalization can aid in recognizing named entities in languages such as English, this information cannot aid in determining the type of named entity, and in any case, is often inaccurate or insufficient. For example, the first letter of a sentence is also capitalized, and named entities often span several words, only some of which are capitalized. Furthermore, many other languages in non-Western scripts (e.g. Chinese or Arabic) do not have any capitalization at all, and even languages with capitalization may not consistently use it to distinguish names. For example, German capitalizes all nouns, regardless of whether they are names, and French and Spanish do not capitalize names that serve as adjectives.\\n\\nSentiment analysis (see also Multimodal sentiment analysis) Extract subjective information usually from a set of documents, often using online reviews to determine \"polarity\" about specific objects. It is especially useful for identifying trends of public opinion in social media, for marketing.\\n\\nTerminology extraction The goal of terminology extraction is to automatically extract relevant terms from a given corpus. Word sense disambiguation Many words have more than one meaning; we have to select the meaning which makes the most sense in context. For this problem, we are typically given a list of words and associated word senses, e.g. from a dictionary or an online resource such as WordNet.\\n\\nRelational semantics (semantics of individual sentences) [ edit ]\\n\\nRelationship extraction Given a chunk of text, identify the relationships among named entities (e.g. who is married to whom). Semantic parsing Given a piece of text (typically a sentence), produce a formal representation of its semantics, either as a graph (e.g., in AMR parsing) or in accordance with a logical formalism (e.g., in DRT parsing). This challenge typically includes aspects of several more elementary NLP tasks from semantics (e.g., semantic role labelling, word sense disambiguation) and can be extended to include full-fledged discourse analysis (e.g., discourse analysis, coreference; see Natural language understanding below). Semantic role labelling (see also implicit semantic role labelling below) Given a single sentence, identify and disambiguate semantic predicates (e.g., verbal frames), then identify and classify the frame elements (semantic roles).\\n\\nDiscourse (semantics beyond individual sentences) [ edit ]\\n\\nCoreference resolution Given a sentence or larger chunk of text, determine which words (\"mentions\") refer to the same objects (\"entities\"). Anaphora resolution is a specific example of this task, and is specifically concerned with matching up pronouns with the nouns or names to which they refer. The more general task of coreference resolution also includes identifying so-called \"bridging relationships\" involving referring expressions. For example, in a sentence such as \"He entered John\\'s house through the front door\", \"the front door\" is a referring expression and the bridging relationship to be identified is the fact that the door being referred to is the front door of John\\'s house (rather than of some other structure that might also be referred to). Discourse analysis This rubric includes several related tasks. One task is discourse parsing, i.e., identifying the discourse structure of a connected text, i.e. the nature of the discourse relationships between sentences (e.g. elaboration, explanation, contrast). Another possible task is recognizing and classifying the speech acts in a chunk of text (e.g. yes-no question, content question, statement, assertion, etc.).\\n\\nImplicit semantic role labelling Given a single sentence, identify and disambiguate semantic predicates (e.g., verbal frames) and their explicit semantic roles in the current sentence (see Semantic role labelling above). Then, identify semantic roles that are not explicitly realized in the current sentence, classify them into arguments that are explicitly realized elsewhere in the text and those that are not specified, and resolve the former against the local text. A closely related task is zero anaphora resolution, i.e., the extension of coreference resolution to pro-drop languages.\\n\\nRecognizing textual entailment Given two text fragments, determine if one being true entails the other, entails the other\\'s negation, or allows the other to be either true or false.[25]\\n\\nTopic segmentation and recognition Given a chunk of text, separate it into segments each of which is devoted to a topic, and identify the topic of the segment.\\n\\nArgument mining The goal of argument mining is the automatic extraction and identification of argumentative structures from natural language text with the aid of computer programs.[26] Such argumentative structures include the premise, conclusions, the argument scheme and the relationship between the main and subsidiary argument, or the main and counter-argument within discourse.[27][28]\\n\\nHigher-level NLP applications [ edit ]\\n\\nAutomatic summarization (text summarization) Produce a readable summary of a chunk of text. Often used to provide summaries of the text of a known type, such as research papers, articles in the financial section of a newspaper. Book generation Not an NLP task proper but an extension of natural language generation and other NLP tasks is the creation of full-fledged books. The first machine-generated book was created by a rule-based system in 1984 (Racter, The policeman\\'s beard is half-constructed).[29] The first published work by a neural network was published in 2018, 1 the Road, marketed as a novel, contains sixty million words. Both these systems are basically elaborate but non-sensical (semantics-free) language models. The first machine-generated science book was published in 2019 (Beta Writer, Lithium-Ion Batteries, Springer, Cham).[30] Unlike Racter and 1 the Road, this is grounded on factual knowledge and based on text summarization. Dialogue management Computer systems intended to converse with a human. Document AI A Document AI platform sits on top of the NLP technology enabling users with no prior experience of artificial intelligence, machine learning or NLP to quickly train a computer to extract the specific data they need from different document types. NLP-powered Document AI enables non-technical teams to quickly access information hidden in documents, for example, lawyers, business analysts and accountants.[31] Grammatical error correction Grammatical error detection and correction involves a great band-width of problems on all levels of linguistic analysis (phonology/orthography, morphology, syntax, semantics, pragmatics). Grammatical error correction is impactful since it affects hundreds of millions of people that use or acquire English as a second language. It has thus been subject to a number of shared tasks since 2011.[32][33][34] As far as orthography, morphology, syntax and certain aspects of semantics are concerned, and due to the development of powerful neural language models such as GPT-2, this can now (2019) be considered a largely solved problem and is being marketed in various commercial applications. Machine translation Automatically translate text from one human language to another. This is one of the most difficult problems, and is a member of a class of problems colloquially termed \"AI-complete\", i.e. requiring all of the different types of knowledge that humans possess (grammar, semantics, facts about the real world, etc.) to solve properly. Natural language generation (NLG): Convert information from computer databases or semantic intents into readable human language. Natural language understanding (NLU) Convert chunks of text into more formal representations such as first-order logic structures that are easier for computer programs to manipulate. Natural language understanding involves the identification of the intended semantic from the multiple possible semantics which can be derived from a natural language expression which usually takes the form of organized notations of natural language concepts. Introduction and creation of language metamodel and ontology are efficient however empirical solutions. An explicit formalization of natural language semantics without confusions with implicit assumptions such as closed-world assumption (CWA) vs. open-world assumption, or subjective Yes/No vs. objective True/False is expected for the construction of a basis of semantics formalization.[35] Question answering Given a human-language question, determine its answer. Typical questions have a specific right answer (such as \"What is the capital of Canada?\"), but sometimes open-ended questions are also considered (such as \"What is the meaning of life?\").\\n\\nGeneral tendencies and (possible) future directions [ edit ]\\n\\nBased on long-standing trends in the field, it is possible to extrapolate future directions of NLP. As of 2020, three trends among the topics of the long-standing series of CoNLL Shared Tasks can be observed:[36]\\n\\nInterest on increasingly abstract, \"cognitive\" aspects of natural language (1999-2001: shallow parsing, 2002-03: named entity recognition, 2006-09/2017-18: dependency syntax, 2004-05/2008-09 semantic role labelling, 2011-12 coreference, 2015-16: discourse parsing, 2019: semantic parsing).\\n\\nIncreasing interest in multilinguality, and, potentially, multimodality (English since 1999; Spanish, Dutch since 2002; German since 2003; Bulgarian, Danish, Japanese, Portuguese, Slovenian, Swedish, Turkish since 2006; Basque, Catalan, Chinese, Greek, Hungarian, Italian, Turkish since 2007; Czech since 2009; Arabic since 2012; 2017: 40+ languages; 2018: 60+/100+ languages)\\n\\nElimination of symbolic representations (rule-based over supervised towards weakly supervised methods, representation learning and end-to-end systems)\\n\\nCognition and NLP [ edit ]\\n\\nMost higher-level NLP applications involve aspects that emulate intelligent behaviour and apparent comprehension of natural language. More broadly speaking, the technical operationalization of increasingly advanced aspects of cognitive behaviour represents one of the developmental trajectories of NLP (see trends among CoNLL shared tasks above).\\n\\nCognition refers to \"the mental action or process of acquiring knowledge and understanding through thought, experience, and the senses.\"[37] Cognitive science is the interdisciplinary, scientific study of the mind and its processes.[38] Cognitive linguistics is an interdisciplinary branch of linguistics, combining knowledge and research from both psychology and linguistics.[39] Especially during the age of symbolic NLP, the area of computational linguistics maintained strong ties with cognitive studies.\\n\\nAs an example, George Lakoff offers a methodology to build natural language processing (NLP) algorithms through the perspective of cognitive science, along with the findings of cognitive linguistics,[40] with two defining aspects:\\n\\nApply the theory of conceptual metaphor, explained by Lakoff as “the understanding of one idea, in terms of another” which provides an idea of the intent of the author.[41] For example, consider the English word “big”. When used in a comparison (“That is a big tree”), the author\\'s intent is to imply that the tree is ”physically large” relative to other trees or the authors experience. When used metaphorically (”Tomorrow is a big day”), the author’s intent to imply ”importance”. The intent behind other usages, like in ”She is a big person” will remain somewhat ambiguous to a person and a cognitive NLP algorithm alike without additional information. Assign relative measures of meaning to a word, phrase, sentence or piece of text based on the information presented before and after the piece of text being analyzed, e.g., by means of a probabilistic context-free grammar (PCFG). The mathematical equation for such algorithms is presented in US patent 9269353 :\\n\\nR M M ( t o k e n N ) = P M M ( t o k e n N ) × 1 2 d ( ∑ i = − d d ( ( P M M ( t o k e n N − 1 ) × P F ( t o k e n N , t o k e n N − 1 ) ) i ) {\\\\displaystyle {RMM(token_{N})}={PMM(token_{N})}\\\\times {\\\\frac {1}{2d}}\\\\left(\\\\sum _{i=-d}^{d}{((PMM(token_{N-1})}\\\\times {PF(token_{N},token_{N-1}))_{i}}\\\\right)}\\n\\nWhere, RMM, is the Relative Measure of Meaning token, is any block of text, sentence, phrase or word N, is the number of tokens being analyzed PMM, is the Probable Measure of Meaning based on a corpora d, is the location of the token along the sequence of N-1 tokens PF, is the Probability Function specific to a language\\n\\nTies with cognitive linguistics are part of the historical heritage of NLP, but they have been less frequently addressed since the statistical turn during the 1990s. Nevertheless, approaches to develop cognitive models towards technically operationalizable frameworks have been pursued in the context of various frameworks, e.g., of cognitive grammar,[42] functional grammar,[43] construction grammar,[44] computational psycholinguistics and cognitive neuroscience (e.g., ACT-R), however, with limited uptake in mainstream NLP (as measured by presence on major conferences[45] of the ACL). More recently, ideas of cognitive NLP have been revived as an approach to achieve explainability, e.g., under the notion of \"cognitive AI\".[46] Likewise, ideas of cognitive NLP are inherent to neural models multimodal NLP (although rarely made explicit).[47]\\n\\nSee also [ edit ]\\n\\nReferences [ edit ]'"
            ]
          },
          "metadata": {},
          "execution_count": 6
        }
      ]
    },
    {
      "cell_type": "markdown",
      "metadata": {
        "id": "8nsUbTFkml_A"
      },
      "source": [
        "As you can see, the data has been converted into text format. It is now in the form of a long string of sentences. We'll now convert this string into a list of sentences by tokenizing it."
      ]
    },
    {
      "cell_type": "code",
      "metadata": {
        "colab": {
          "base_uri": "https://localhost:8080/"
        },
        "id": "MmMSz5_lUUjc",
        "outputId": "eaff8866-f854-418d-ffe2-64d3c8781621"
      },
      "source": [
        "text = corpus\n",
        "sentence_list = nltk.sent_tokenize(text) # This function is used to tokenize the string into constituent sentences.\n",
        "sentence_list"
      ],
      "execution_count": 7,
      "outputs": [
        {
          "output_type": "execute_result",
          "data": {
            "text/plain": [
              "['This article is about natural language processing done by computers.',\n",
              " 'For the natural language processing done by the human brain, see Language processing in the brain\\n\\nField of computer science and linguistics\\n\\nNatural language processing (NLP) is a subfield of linguistics, computer science, and artificial intelligence concerned with the interactions between computers and human language, in particular how to program computers to process and analyze large amounts of natural language data.',\n",
              " 'The goal is a computer capable of \"understanding\" the contents of documents, including the contextual nuances of the language within them.',\n",
              " 'The technology can then accurately extract information and insights contained in the documents as well as categorize and organize the documents themselves.',\n",
              " 'Challenges in natural language processing frequently involve speech recognition, natural language understanding, and natural language generation.',\n",
              " 'History [ edit ]\\n\\nNatural language processing has its roots in the 1950s.',\n",
              " 'Already in 1950, Alan Turing published an article titled \"Computing Machinery and Intelligence\" which proposed what is now called the Turing test as a criterion of intelligence, a task that involves the automated interpretation and generation of natural language, but at the time not articulated as a problem separate from artificial intelligence.',\n",
              " \"Symbolic NLP (1950s – early 1990s) [ edit ]\\n\\nThe premise of symbolic NLP is well-summarized by John Searle's Chinese room experiment: Given a collection of rules (e.g., a Chinese phrasebook, with questions and matching answers), the computer emulates natural language understanding (or other NLP tasks) by applying those rules to the data it is confronted with.\",\n",
              " 'Statistical NLP (1990s–2010s) [ edit ]\\n\\nUp to the 1980s, most natural language processing systems were based on complex sets of hand-written rules.',\n",
              " 'Starting in the late 1980s, however, there was a revolution in natural language processing with the introduction of machine learning algorithms for language processing.',\n",
              " \"This was due to both the steady increase in computational power (see Moore's law) and the gradual lessening of the dominance of Chomskyan theories of linguistics (e.g.\",\n",
              " 'transformational grammar), whose theoretical underpinnings discouraged the sort of corpus linguistics that underlies the machine-learning approach to language processing.',\n",
              " '[6]\\n\\n1990s : Many of the notable early successes on statistical methods in NLP occurred in the field of machine translation, due especially to work at IBM Research.',\n",
              " 'These systems were able to take advantage of existing multilingual textual corpora that had been produced by the Parliament of Canada and the European Union as a result of laws calling for the translation of all governmental proceedings into all official languages of the corresponding systems of government.',\n",
              " 'However, most other systems depended on corpora specifically developed for the tasks implemented by these systems, which was (and often continues to be) a major limitation in the success of these systems.',\n",
              " 'As a result, a great deal of research has gone into methods of more effectively learning from limited amounts of data.',\n",
              " ': Many of the notable early successes on statistical methods in NLP occurred in the field of machine translation, due especially to work at IBM Research.',\n",
              " 'These systems were able to take advantage of existing multilingual textual corpora that had been produced by the Parliament of Canada and the European Union as a result of laws calling for the translation of all governmental proceedings into all official languages of the corresponding systems of government.',\n",
              " 'However, most other systems depended on corpora specifically developed for the tasks implemented by these systems, which was (and often continues to be) a major limitation in the success of these systems.',\n",
              " 'As a result, a great deal of research has gone into methods of more effectively learning from limited amounts of data.',\n",
              " '2000s: With the growth of the web, increasing amounts of raw (unannotated) language data has become available since the mid-1990s.',\n",
              " 'Research has thus increasingly focused on unsupervised and semi-supervised learning algorithms.',\n",
              " 'Such algorithms can learn from data that has not been hand-annotated with the desired answers or using a combination of annotated and non-annotated data.',\n",
              " 'Generally, this task is much more difficult than supervised learning, and typically produces less accurate results for a given amount of input data.',\n",
              " 'However, there is an enormous amount of non-annotated data available (including, among other things, the entire content of the World Wide Web), which can often make up for the inferior results if the algorithm used has a low enough time complexity to be practical.',\n",
              " 'Neural NLP (present) [ edit ]\\n\\nIn the 2010s, representation learning and deep neural network-style machine learning methods became widespread in natural language processing, due in part to a flurry of results showing that such techniques[7][8] can achieve state-of-the-art results in many natural language tasks, for example in language modeling,[9] parsing,[10][11] and many others.',\n",
              " 'This is increasingly important in medicine and healthcare, where NLP is being used to analyze notes and text in electronic health records that would otherwise be inaccessible for study when seeking to improve care.',\n",
              " '[12]\\n\\nMethods: Rules, statistics, neural networks [ edit ]\\n\\nIn the early days, many language-processing systems were designed by symbolic methods, i.e., the hand-coding of a set of rules, coupled with a dictionary lookup:[13][14] such as by writing grammars or devising heuristic rules for stemming.',\n",
              " 'More recent systems based on machine-learning algorithms have many advantages over hand-produced rules:\\n\\nThe learning procedures used during machine learning automatically focus on the most common cases, whereas when writing rules by hand it is often not at all obvious where the effort should be directed.',\n",
              " 'Automatic learning procedures can make use of statistical inference algorithms to produce models that are robust to unfamiliar input (e.g.',\n",
              " 'containing words or structures that have not been seen before) and to erroneous input (e.g.',\n",
              " 'with misspelled words or words accidentally omitted).',\n",
              " 'Generally, handling such input gracefully with handwritten rules, or, more generally, creating systems of handwritten rules that make soft decisions, is extremely difficult, error-prone and time-consuming.',\n",
              " 'Systems based on automatically learning the rules can be made more accurate simply by supplying more input data.',\n",
              " 'However, systems based on handwritten rules can only be made more accurate by increasing the complexity of the rules, which is a much more difficult task.',\n",
              " 'In particular, there is a limit to the complexity of systems based on handwritten rules, beyond which the systems become more and more unmanageable.',\n",
              " 'However, creating more data to input to machine-learning systems simply requires a corresponding increase in the number of man-hours worked, generally without significant increases in the complexity of the annotation process.',\n",
              " 'Despite the popularity of machine learning in NLP research, symbolic methods are still (2020) commonly used:\\n\\nwhen the amount of training data is insufficient to successfully apply machine learning methods, e.g., for the machine translation of low-resource languages such as provided by the Apertium system,\\n\\nfor preprocessing in NLP pipelines, e.g., tokenization, or\\n\\nfor postprocessing and transforming the output of NLP pipelines, e.g., for knowledge extraction from syntactic parses.',\n",
              " 'Statistical methods [ edit ]\\n\\nSince the so-called \"statistical revolution\"[15][16] in the late 1980s and mid-1990s, much natural language processing research has relied heavily on machine learning.',\n",
              " 'The machine-learning paradigm calls instead for using statistical inference to automatically learn such rules through the analysis of large corpora (the plural form of corpus, is a set of documents, possibly with human or computer annotations) of typical real-world examples.',\n",
              " 'Many different classes of machine-learning algorithms have been applied to natural-language-processing tasks.',\n",
              " 'These algorithms take as input a large set of \"features\" that are generated from the input data.',\n",
              " 'Increasingly, however, research has focused on statistical models, which make soft, probabilistic decisions based on attaching real-valued weights to each input feature (complex-valued embeddings,[17] and neural networks in general have also been proposed, for e.g.',\n",
              " 'speech[18]).',\n",
              " 'Such models have the advantage that they can express the relative certainty of many different possible answers rather than only one, producing more reliable results when such a model is included as a component of a larger system.',\n",
              " 'Some of the earliest-used machine learning algorithms, such as decision trees, produced systems of hard if-then rules similar to existing hand-written rules.',\n",
              " 'However, part-of-speech tagging introduced the use of hidden Markov models to natural language processing, and increasingly, research has focused on statistical models, which make soft, probabilistic decisions based on attaching real-valued weights to the features making up the input data.',\n",
              " 'The cache language models upon which many speech recognition systems now rely are examples of such statistical models.',\n",
              " 'Such models are generally more robust when given unfamiliar input, especially input that contains errors (as is very common for real-world data), and produce more reliable results when integrated into a larger system comprising multiple subtasks.',\n",
              " 'Since the neural turn, statistical methods in NLP research have been largely replaced by neural networks.',\n",
              " 'However, they continue to be relevant for contexts in which statistical interpretability and transparency is required.',\n",
              " 'Neural networks [ edit ]\\n\\nA major drawback of statistical methods is that they require elaborate feature engineering.',\n",
              " 'Since 2015,[19] the field has thus largely abandoned statistical methods and shifted to neural networks for machine learning.',\n",
              " 'Popular techniques include the use of word embeddings to capture semantic properties of words, and an increase in end-to-end learning of a higher-level task (e.g., question answering) instead of relying on a pipeline of separate intermediate tasks (e.g., part-of-speech tagging and dependency parsing).',\n",
              " 'In some areas, this shift has entailed substantial changes in how NLP systems are designed, such that deep neural network-based approaches may be viewed as a new paradigm distinct from statistical natural language processing.',\n",
              " 'For instance, the term neural machine translation (NMT) emphasizes the fact that deep learning-based approaches to machine translation directly learn sequence-to-sequence transformations, obviating the need for intermediate steps such as word alignment and language modeling that was used in statistical machine translation (SMT).',\n",
              " 'Latest works tend to use non-technical structure of a given task to build proper neural network.',\n",
              " '[20]\\n\\nCommon NLP tasks [ edit ]\\n\\nThe following is a list of some of the most commonly researched tasks in natural language processing.',\n",
              " 'Some of these tasks have direct real-world applications, while others more commonly serve as subtasks that are used to aid in solving larger tasks.',\n",
              " 'Though natural language processing tasks are closely intertwined, they can be subdivided into categories for convenience.',\n",
              " 'A coarse division is given below.',\n",
              " 'Text and speech processing [ edit ]\\n\\nOptical character recognition (OCR) Given an image representing printed text, determine the corresponding text.',\n",
              " 'Speech recognition Given a sound clip of a person or people speaking, determine the textual representation of the speech.',\n",
              " 'This is the opposite of text to speech and is one of the extremely difficult problems colloquially termed \"AI-complete\" (see above).',\n",
              " 'In natural speech there are hardly any pauses between successive words, and thus speech segmentation is a necessary subtask of speech recognition (see below).',\n",
              " 'In most spoken languages, the sounds representing successive letters blend into each other in a process termed coarticulation, so the conversion of the analog signal to discrete characters can be a very difficult process.',\n",
              " 'Also, given that words in the same language are spoken by people with different accents, the speech recognition software must be able to recognize the wide variety of input as being identical to each other in terms of its textual equivalent.',\n",
              " 'Speech segmentation Given a sound clip of a person or people speaking, separate it into words.',\n",
              " 'A subtask of speech recognition and typically grouped with it.',\n",
              " 'Text-to-speech Given a text, transform those units and produce a spoken representation.',\n",
              " 'Text-to-speech can be used to aid the visually impaired.',\n",
              " '[21]\\n\\nWord segmentation (Tokenization) Separate a chunk of continuous text into separate words.',\n",
              " 'For a language like English, this is fairly trivial, since words are usually separated by spaces.',\n",
              " 'However, some written languages like Chinese, Japanese and Thai do not mark word boundaries in such a fashion, and in those languages text segmentation is a significant task requiring knowledge of the vocabulary and morphology of words in the language.',\n",
              " 'Sometimes this process is also used in cases like bag of words (BOW) creation in data mining.',\n",
              " 'Morphological analysis [ edit ]\\n\\nLemmatization The task of removing inflectional endings only and to return the base dictionary form of a word which is also known as a lemma.',\n",
              " 'Lemmatization is another technique for reducing words to their normalized form.',\n",
              " 'But in this case, the transformation actually uses a dictionary to map words to their actual form.',\n",
              " '[22] Morphological segmentation Separate words into individual morphemes and identify the class of the morphemes.',\n",
              " 'The difficulty of this task depends greatly on the complexity of the morphology (i.e., the structure of words) of the language being considered.',\n",
              " 'English has fairly simple morphology, especially inflectional morphology, and thus it is often possible to ignore this task entirely and simply model all possible forms of a word (e.g., \"open, opens, opened, opening\") as separate words.',\n",
              " 'In languages such as Turkish or Meitei,[23] a highly agglutinated Indian language, however, such an approach is not possible, as each dictionary entry has thousands of possible word forms.',\n",
              " 'Part-of-speech tagging Given a sentence, determine the part of speech (POS) for each word.',\n",
              " 'Many words, especially common ones, can serve as multiple parts of speech.',\n",
              " 'For example, \"book\" can be a noun (\"the book on the table\") or verb (\"to book a flight\"); \"set\" can be a noun, verb or adjective; and \"out\" can be any of at least five different parts of speech.',\n",
              " 'Stemming The process of reducing inflected (or sometimes derived) words to a base form (e.g., \"close\" will be the root for \"closed\", \"closing\", \"close\", \"closer\" etc.).',\n",
              " 'Stemming yields similar results as lemmatization, but does so on grounds of rules, not a dictionary.',\n",
              " 'Syntactic analysis [ edit ]\\n\\nLexical semantics (of individual words in context) [ edit ]\\n\\nLexical semantics What is the computational meaning of individual words in context?',\n",
              " 'Distributional semantics How can we learn semantic representations from data?',\n",
              " 'Named entity recognition (NER) Given a stream of text, determine which items in the text map to proper names, such as people or places, and what the type of each such name is (e.g.',\n",
              " 'person, location, organization).',\n",
              " 'Although capitalization can aid in recognizing named entities in languages such as English, this information cannot aid in determining the type of named entity, and in any case, is often inaccurate or insufficient.',\n",
              " 'For example, the first letter of a sentence is also capitalized, and named entities often span several words, only some of which are capitalized.',\n",
              " 'Furthermore, many other languages in non-Western scripts (e.g.',\n",
              " 'Chinese or Arabic) do not have any capitalization at all, and even languages with capitalization may not consistently use it to distinguish names.',\n",
              " 'For example, German capitalizes all nouns, regardless of whether they are names, and French and Spanish do not capitalize names that serve as adjectives.',\n",
              " 'Sentiment analysis (see also Multimodal sentiment analysis) Extract subjective information usually from a set of documents, often using online reviews to determine \"polarity\" about specific objects.',\n",
              " 'It is especially useful for identifying trends of public opinion in social media, for marketing.',\n",
              " 'Terminology extraction The goal of terminology extraction is to automatically extract relevant terms from a given corpus.',\n",
              " 'Word sense disambiguation Many words have more than one meaning; we have to select the meaning which makes the most sense in context.',\n",
              " 'For this problem, we are typically given a list of words and associated word senses, e.g.',\n",
              " 'from a dictionary or an online resource such as WordNet.',\n",
              " 'Relational semantics (semantics of individual sentences) [ edit ]\\n\\nRelationship extraction Given a chunk of text, identify the relationships among named entities (e.g.',\n",
              " 'who is married to whom).',\n",
              " 'Semantic parsing Given a piece of text (typically a sentence), produce a formal representation of its semantics, either as a graph (e.g., in AMR parsing) or in accordance with a logical formalism (e.g., in DRT parsing).',\n",
              " 'This challenge typically includes aspects of several more elementary NLP tasks from semantics (e.g., semantic role labelling, word sense disambiguation) and can be extended to include full-fledged discourse analysis (e.g., discourse analysis, coreference; see Natural language understanding below).',\n",
              " 'Semantic role labelling (see also implicit semantic role labelling below) Given a single sentence, identify and disambiguate semantic predicates (e.g., verbal frames), then identify and classify the frame elements (semantic roles).',\n",
              " 'Discourse (semantics beyond individual sentences) [ edit ]\\n\\nCoreference resolution Given a sentence or larger chunk of text, determine which words (\"mentions\") refer to the same objects (\"entities\").',\n",
              " 'Anaphora resolution is a specific example of this task, and is specifically concerned with matching up pronouns with the nouns or names to which they refer.',\n",
              " 'The more general task of coreference resolution also includes identifying so-called \"bridging relationships\" involving referring expressions.',\n",
              " 'For example, in a sentence such as \"He entered John\\'s house through the front door\", \"the front door\" is a referring expression and the bridging relationship to be identified is the fact that the door being referred to is the front door of John\\'s house (rather than of some other structure that might also be referred to).',\n",
              " 'Discourse analysis This rubric includes several related tasks.',\n",
              " 'One task is discourse parsing, i.e., identifying the discourse structure of a connected text, i.e.',\n",
              " 'the nature of the discourse relationships between sentences (e.g.',\n",
              " 'elaboration, explanation, contrast).',\n",
              " 'Another possible task is recognizing and classifying the speech acts in a chunk of text (e.g.',\n",
              " 'yes-no question, content question, statement, assertion, etc.).',\n",
              " 'Implicit semantic role labelling Given a single sentence, identify and disambiguate semantic predicates (e.g., verbal frames) and their explicit semantic roles in the current sentence (see Semantic role labelling above).',\n",
              " 'Then, identify semantic roles that are not explicitly realized in the current sentence, classify them into arguments that are explicitly realized elsewhere in the text and those that are not specified, and resolve the former against the local text.',\n",
              " 'A closely related task is zero anaphora resolution, i.e., the extension of coreference resolution to pro-drop languages.',\n",
              " \"Recognizing textual entailment Given two text fragments, determine if one being true entails the other, entails the other's negation, or allows the other to be either true or false.\",\n",
              " '[25]\\n\\nTopic segmentation and recognition Given a chunk of text, separate it into segments each of which is devoted to a topic, and identify the topic of the segment.',\n",
              " 'Argument mining The goal of argument mining is the automatic extraction and identification of argumentative structures from natural language text with the aid of computer programs.',\n",
              " '[26] Such argumentative structures include the premise, conclusions, the argument scheme and the relationship between the main and subsidiary argument, or the main and counter-argument within discourse.',\n",
              " '[27][28]\\n\\nHigher-level NLP applications [ edit ]\\n\\nAutomatic summarization (text summarization) Produce a readable summary of a chunk of text.',\n",
              " 'Often used to provide summaries of the text of a known type, such as research papers, articles in the financial section of a newspaper.',\n",
              " 'Book generation Not an NLP task proper but an extension of natural language generation and other NLP tasks is the creation of full-fledged books.',\n",
              " \"The first machine-generated book was created by a rule-based system in 1984 (Racter, The policeman's beard is half-constructed).\",\n",
              " '[29] The first published work by a neural network was published in 2018, 1 the Road, marketed as a novel, contains sixty million words.',\n",
              " 'Both these systems are basically elaborate but non-sensical (semantics-free) language models.',\n",
              " 'The first machine-generated science book was published in 2019 (Beta Writer, Lithium-Ion Batteries, Springer, Cham).',\n",
              " '[30] Unlike Racter and 1 the Road, this is grounded on factual knowledge and based on text summarization.',\n",
              " 'Dialogue management Computer systems intended to converse with a human.',\n",
              " 'Document AI A Document AI platform sits on top of the NLP technology enabling users with no prior experience of artificial intelligence, machine learning or NLP to quickly train a computer to extract the specific data they need from different document types.',\n",
              " 'NLP-powered Document AI enables non-technical teams to quickly access information hidden in documents, for example, lawyers, business analysts and accountants.',\n",
              " '[31] Grammatical error correction Grammatical error detection and correction involves a great band-width of problems on all levels of linguistic analysis (phonology/orthography, morphology, syntax, semantics, pragmatics).',\n",
              " 'Grammatical error correction is impactful since it affects hundreds of millions of people that use or acquire English as a second language.',\n",
              " 'It has thus been subject to a number of shared tasks since 2011.',\n",
              " '[32][33][34] As far as orthography, morphology, syntax and certain aspects of semantics are concerned, and due to the development of powerful neural language models such as GPT-2, this can now (2019) be considered a largely solved problem and is being marketed in various commercial applications.',\n",
              " 'Machine translation Automatically translate text from one human language to another.',\n",
              " 'This is one of the most difficult problems, and is a member of a class of problems colloquially termed \"AI-complete\", i.e.',\n",
              " 'requiring all of the different types of knowledge that humans possess (grammar, semantics, facts about the real world, etc.)',\n",
              " 'to solve properly.',\n",
              " 'Natural language generation (NLG): Convert information from computer databases or semantic intents into readable human language.',\n",
              " 'Natural language understanding (NLU) Convert chunks of text into more formal representations such as first-order logic structures that are easier for computer programs to manipulate.',\n",
              " 'Natural language understanding involves the identification of the intended semantic from the multiple possible semantics which can be derived from a natural language expression which usually takes the form of organized notations of natural language concepts.',\n",
              " 'Introduction and creation of language metamodel and ontology are efficient however empirical solutions.',\n",
              " 'An explicit formalization of natural language semantics without confusions with implicit assumptions such as closed-world assumption (CWA) vs. open-world assumption, or subjective Yes/No vs. objective True/False is expected for the construction of a basis of semantics formalization.',\n",
              " '[35] Question answering Given a human-language question, determine its answer.',\n",
              " 'Typical questions have a specific right answer (such as \"What is the capital of Canada?',\n",
              " '\"), but sometimes open-ended questions are also considered (such as \"What is the meaning of life?\").',\n",
              " 'General tendencies and (possible) future directions [ edit ]\\n\\nBased on long-standing trends in the field, it is possible to extrapolate future directions of NLP.',\n",
              " 'As of 2020, three trends among the topics of the long-standing series of CoNLL Shared Tasks can be observed:[36]\\n\\nInterest on increasingly abstract, \"cognitive\" aspects of natural language (1999-2001: shallow parsing, 2002-03: named entity recognition, 2006-09/2017-18: dependency syntax, 2004-05/2008-09 semantic role labelling, 2011-12 coreference, 2015-16: discourse parsing, 2019: semantic parsing).',\n",
              " 'Increasing interest in multilinguality, and, potentially, multimodality (English since 1999; Spanish, Dutch since 2002; German since 2003; Bulgarian, Danish, Japanese, Portuguese, Slovenian, Swedish, Turkish since 2006; Basque, Catalan, Chinese, Greek, Hungarian, Italian, Turkish since 2007; Czech since 2009; Arabic since 2012; 2017: 40+ languages; 2018: 60+/100+ languages)\\n\\nElimination of symbolic representations (rule-based over supervised towards weakly supervised methods, representation learning and end-to-end systems)\\n\\nCognition and NLP [ edit ]\\n\\nMost higher-level NLP applications involve aspects that emulate intelligent behaviour and apparent comprehension of natural language.',\n",
              " 'More broadly speaking, the technical operationalization of increasingly advanced aspects of cognitive behaviour represents one of the developmental trajectories of NLP (see trends among CoNLL shared tasks above).',\n",
              " 'Cognition refers to \"the mental action or process of acquiring knowledge and understanding through thought, experience, and the senses.',\n",
              " '\"[37] Cognitive science is the interdisciplinary, scientific study of the mind and its processes.',\n",
              " '[38] Cognitive linguistics is an interdisciplinary branch of linguistics, combining knowledge and research from both psychology and linguistics.',\n",
              " '[39] Especially during the age of symbolic NLP, the area of computational linguistics maintained strong ties with cognitive studies.',\n",
              " 'As an example, George Lakoff offers a methodology to build natural language processing (NLP) algorithms through the perspective of cognitive science, along with the findings of cognitive linguistics,[40] with two defining aspects:\\n\\nApply the theory of conceptual metaphor, explained by Lakoff as “the understanding of one idea, in terms of another” which provides an idea of the intent of the author.',\n",
              " '[41] For example, consider the English word “big”.',\n",
              " \"When used in a comparison (“That is a big tree”), the author's intent is to imply that the tree is ”physically large” relative to other trees or the authors experience.\",\n",
              " 'When used metaphorically (”Tomorrow is a big day”), the author’s intent to imply ”importance”.',\n",
              " 'The intent behind other usages, like in ”She is a big person” will remain somewhat ambiguous to a person and a cognitive NLP algorithm alike without additional information.',\n",
              " 'Assign relative measures of meaning to a word, phrase, sentence or piece of text based on the information presented before and after the piece of text being analyzed, e.g., by means of a probabilistic context-free grammar (PCFG).',\n",
              " 'The mathematical equation for such algorithms is presented in US patent 9269353 :\\n\\nR M M ( t o k e n N ) = P M M ( t o k e n N ) × 1 2 d ( ∑ i = − d d ( ( P M M ( t o k e n N − 1 ) × P F ( t o k e n N , t o k e n N − 1 ) ) i ) {\\\\displaystyle {RMM(token_{N})}={PMM(token_{N})}\\\\times {\\\\frac {1}{2d}}\\\\left(\\\\sum _{i=-d}^{d}{((PMM(token_{N-1})}\\\\times {PF(token_{N},token_{N-1}))_{i}}\\\\right)}\\n\\nWhere, RMM, is the Relative Measure of Meaning token, is any block of text, sentence, phrase or word N, is the number of tokens being analyzed PMM, is the Probable Measure of Meaning based on a corpora d, is the location of the token along the sequence of N-1 tokens PF, is the Probability Function specific to a language\\n\\nTies with cognitive linguistics are part of the historical heritage of NLP, but they have been less frequently addressed since the statistical turn during the 1990s.',\n",
              " 'Nevertheless, approaches to develop cognitive models towards technically operationalizable frameworks have been pursued in the context of various frameworks, e.g., of cognitive grammar,[42] functional grammar,[43] construction grammar,[44] computational psycholinguistics and cognitive neuroscience (e.g., ACT-R), however, with limited uptake in mainstream NLP (as measured by presence on major conferences[45] of the ACL).',\n",
              " 'More recently, ideas of cognitive NLP have been revived as an approach to achieve explainability, e.g., under the notion of \"cognitive AI\".',\n",
              " '[46] Likewise, ideas of cognitive NLP are inherent to neural models multimodal NLP (although rarely made explicit).',\n",
              " '[47]\\n\\nSee also [ edit ]\\n\\nReferences [ edit ]']"
            ]
          },
          "metadata": {},
          "execution_count": 7
        }
      ]
    },
    {
      "cell_type": "markdown",
      "metadata": {
        "id": "H2V-b728nYpR"
      },
      "source": [
        "So now, it is a list of sentences.\n",
        "Next up, we'll be building functions that make up the Chat Bot. To start with, we'll define a function that greets back the human user."
      ]
    },
    {
      "cell_type": "code",
      "metadata": {
        "id": "FEvUrEsrV4fL"
      },
      "source": [
        "def greeting_response(text):\n",
        "  \"\"\" This function takes an input (which is derived from the user) and checks if any word in the input is in the list of gretings to expect from the user.\n",
        "      If it is, then the bot greets back the user by choosing a random greeting from the list of bot greetings. \"\"\"\n",
        "\n",
        "  text = text.lower()\n",
        "  bot_greetings = ['hi', 'hello', 'namaste', 'hola', 'howdy', 'hey']\n",
        "  user_greetings = ['hey', 'hoy', 'wassup?', 'namaskaram', 'etlunnav?', 'hi', 'hello']\n",
        "\n",
        "  words_in_text = text.split()\n",
        "\n",
        "  for word in words_in_text:\n",
        "    if word in user_greetings:\n",
        "      chosen_greeting = random.choice(bot_greetings)\n",
        "      return chosen_greeting"
      ],
      "execution_count": 8,
      "outputs": []
    },
    {
      "cell_type": "markdown",
      "metadata": {
        "id": "Zk1dCVeEpijj"
      },
      "source": [
        "Next, we define a function to sort elements of a list in descending order and then return a list containing their indices in the original list instead of the actual elements. This function will be used later on in the project."
      ]
    },
    {
      "cell_type": "code",
      "metadata": {
        "id": "Nzrnf44ubuFR"
      },
      "source": [
        "def index_sort(similarity_scores_list):\n",
        "  \"\"\" In order to return indices, we first enumerate the elements. Then, we sort them by the values. Finally, we return only the indices. \"\"\"\n",
        "  sorted_scores = sorted(enumerate(similarity_scores_list), key = lambda tup : tup[1], reverse = True)\n",
        "  sorted_indices = [tup[0] for tup in sorted_scores] # To pick only the indices (which are the first elements in each tuple)\n",
        "  return sorted_indices"
      ],
      "execution_count": 9,
      "outputs": []
    },
    {
      "cell_type": "markdown",
      "metadata": {
        "id": "1VzXtjfErd8F"
      },
      "source": [
        "Now comes the important part. Here, we would be using a few NLP techniques to obtain a similar (hence, hopefully sensible) response to the user input. Let's code up that part."
      ]
    },
    {
      "cell_type": "code",
      "metadata": {
        "id": "7A2VcmybWl9K"
      },
      "source": [
        "def bot_response(user_input):\n",
        "  user_input = user_input.lower()\n",
        "  sentence_list.append(user_input) # We append the user inputted sentence to our list of sentences.\n",
        "  b_response = '' # The initial bot response is an empty string.\n",
        "  vectorizer = CountVectorizer() # We are the using count vectorizer from sklearn to keep a count of words appearing in different sentences.\n",
        "  count_matrix = vectorizer.fit_transform(sentence_list) # Fit transform creates a matrix of frequencies of each word in a sentence.\n",
        "  # We want to measure the degree of similarity between the user_inputted sentence and the rest of the sentences in the matrix.\n",
        "  similarity_scores = cosine_similarity(count_matrix[-1], count_matrix)\n",
        "  # Similarity scores is a list of values specifying how similar the sentence at a particular index is with the input sentence.\n",
        "  similarity_scores_list = similarity_scores.flatten() # To convert into a 1D array.\n",
        "  index_list = index_sort(similarity_scores_list) # To obtain the indices of sentences. Most similar ones are at the starting.\n",
        "\n",
        "  response_flag = 0 # To indicate that we haven't yet found a similar sentence.\n",
        "  n = 2 # Number of similar sentences we want to find.\n",
        "  for index in index_list[1:]: # We exclude the first sentence since it is the sentence we have inputted (which is obviously the most similar).\n",
        "    if similarity_scores_list[index] > 0.0: # Score > 0 indicates similarity.\n",
        "      b_response = b_response + ' ' + sentence_list[index] # We append the most similar sentence to the bot response.\n",
        "      n -= 1 # We decrease the counter as we found one match.\n",
        "      if n == 0: break \n",
        "      response_flag = 1 # To indicate we found atleast one similar sentence.\n",
        "\n",
        "  if response_flag == 0:\n",
        "    b_response = b_response + \" Sorry, I couldn't understand that!\" # Incase there is no similar sentence, we would want to convey that to the user.\n",
        "\n",
        "  sentence_list.pop(-1) # We finally remove the user_inputted sentence from the list of sentences.\n",
        "\n",
        "  return b_response # Returning the bot's response."
      ],
      "execution_count": 10,
      "outputs": []
    },
    {
      "cell_type": "markdown",
      "metadata": {
        "id": "m9ZJsRBtCP4u"
      },
      "source": [
        "Done with that, we now create a way to interact with the ChatBot and let's test it!"
      ]
    },
    {
      "cell_type": "code",
      "metadata": {
        "colab": {
          "base_uri": "https://localhost:8080/"
        },
        "id": "DTPsmX52FhPa",
        "outputId": "65ea14b1-83b4-4c84-9fed-cfea0a344938"
      },
      "source": [
        "exit_list = ['bye', 'see you later', 'good night'] # These are the words that would end the conversation with the Chat Bot.\n",
        "print('Hi there! Doc Bot here! Ready to assist you.')\n",
        "\n",
        "while True: # Loop forever\n",
        "  user_input = input('User : ').lower()\n",
        "  if user_input in exit_list:\n",
        "    print('Doc Bot : Bye Pal! Talk to you later!')\n",
        "    break\n",
        "  else:\n",
        "    if greeting_response(user_input) != None: # If the user is greeting the Bot\n",
        "      print('Doc Bot : ' + greeting_response(user_input)) # Greeting from the bot!\n",
        "    else: # If the user is in some conversation\n",
        "      print('Doc Bot : ' + bot_response(user_input)) # Bot's reply to the user."
      ],
      "execution_count": 11,
      "outputs": [
        {
          "output_type": "stream",
          "name": "stdout",
          "text": [
            "Hi there! Doc Bot here! Ready to assist you.\n",
            "User : Hello Bot\n",
            "Doc Bot : hey\n",
            "User : How are you?\n",
            "Doc Bot :  Then, identify semantic roles that are not explicitly realized in the current sentence, classify them into arguments that are explicitly realized elsewhere in the text and those that are not specified, and resolve the former against the local text. In some areas, this shift has entailed substantial changes in how NLP systems are designed, such that deep neural network-based approaches may be viewed as a new paradigm distinct from statistical natural language processing.\n",
            "User : Oops! Straight to business?\n",
            "Doc Bot :  to solve properly. Text-to-speech can be used to aid the visually impaired.\n",
            "User : Okay, Got it! What is NLP?\n",
            "Doc Bot :  Symbolic NLP (1950s – early 1990s) [ edit ]\n",
            "\n",
            "The premise of symbolic NLP is well-summarized by John Searle's Chinese room experiment: Given a collection of rules (e.g., a Chinese phrasebook, with questions and matching answers), the computer emulates natural language understanding (or other NLP tasks) by applying those rules to the data it is confronted with. General tendencies and (possible) future directions [ edit ]\n",
            "\n",
            "Based on long-standing trends in the field, it is possible to extrapolate future directions of NLP.\n",
            "User : what are the uses of natural language processing?\n",
            "Doc Bot :  Natural language understanding involves the identification of the intended semantic from the multiple possible semantics which can be derived from a natural language expression which usually takes the form of organized notations of natural language concepts. For the natural language processing done by the human brain, see Language processing in the brain\n",
            "\n",
            "Field of computer science and linguistics\n",
            "\n",
            "Natural language processing (NLP) is a subfield of linguistics, computer science, and artificial intelligence concerned with the interactions between computers and human language, in particular how to program computers to process and analyze large amounts of natural language data.\n",
            "User : Does NLP have future?\n",
            "Doc Bot :  General tendencies and (possible) future directions [ edit ]\n",
            "\n",
            "Based on long-standing trends in the field, it is possible to extrapolate future directions of NLP. Since the neural turn, statistical methods in NLP research have been largely replaced by neural networks.\n",
            "User : Thanks bot, bye for now!\n",
            "Doc Bot :  It is especially useful for identifying trends of public opinion in social media, for marketing. [41] For example, consider the English word “big”.\n",
            "User : bye\n",
            "Doc Bot : Bye Pal! Talk to you later!\n"
          ]
        }
      ]
    },
    {
      "cell_type": "markdown",
      "metadata": {
        "id": "K4OFfJ12EBzX"
      },
      "source": [
        "Haha! That was our Chat Bot's first conversation with a human agent! He did pretty decently, didn't he? So, that was all about our project. It's a pretty simple one, yet useful. \n",
        "We could make it a lot better by adding more data, using advanced NLP techniques, employing better similarity measures that give more importance to certain key words and using more robust algorithms such as K-nearest neighbours.\n",
        "Next, we'll take up endeavours that address these issues. See you all in the next project!"
      ]
    }
  ]
}